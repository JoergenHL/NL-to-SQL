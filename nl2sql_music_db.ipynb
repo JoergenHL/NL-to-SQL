{
 "cells": [
  {
   "cell_type": "code",
   "execution_count": null,
   "metadata": {},
   "outputs": [
    {
     "name": "stdout",
     "output_type": "stream",
     "text": [
      "SELECT song.name, album.name \n",
      "FROM song \n",
      "JOIN artist ON song.artistID = artist.artistID \n",
      "JOIN songOnAlbum ON song.songID = songOnAlbum.songID \n",
      "JOIN album ON songOnAlbum.albumID = album.albumID \n",
      "WHERE artist.name = 'DJ Khaled';\n"
     ]
    }
   ],
   "source": [
    "from openai import OpenAI\n",
    "client = OpenAI()\n",
    "\n",
    "question = \"Jeg vil se alle sanger av DJ Khaled og hvilke album de er på\"\n",
    "\n",
    "# Method to generate SQL querys\n",
    "def generate_sql(question):\n",
    "\n",
    "        # Database schema for the music database\n",
    "        schema = '''\n",
    "        CREATE TABLE album (\n",
    "        albumID INTEGER PRIMARY KEY,\n",
    "        name VARCHAR(40),\n",
    "        year INTEGER,\n",
    "        artistID INTEGER,\n",
    "        FOREIGN KEY (artistID) REFERENCES artist (artistID) ON DELETE CASCADE\n",
    "        )\n",
    "        CREATE TABLE artist (\n",
    "        artistID INTEGER PRIMARY KEY,\n",
    "        name VARCHAR(40)\n",
    "        )\n",
    "        CREATE TABLE featuredOn (\n",
    "        artistID INTEGER NOT NULL,\n",
    "        songID INTEGER NOT NULL,\n",
    "        PRIMARY KEY (artistID, songID),\n",
    "        FOREIGN KEY (artistID) REFERENCES artist (artistID) ON DELETE CASCADE,\n",
    "        FOREIGN KEY (songID) REFERENCES song (songID) ON DELETE CASCADE\n",
    "        )\n",
    "        CREATE TABLE song (\n",
    "        songID INTEGER PRIMARY KEY,\n",
    "        name VARCHAR(40),\n",
    "        duration INTEGER,\n",
    "        year INTEGER,\n",
    "        artistID,\n",
    "        FOREIGN KEY (artistID) REFERENCES artist (artistID) ON DELETE CASCADE\n",
    "        )\n",
    "        CREATE TABLE songOnAlbum (\n",
    "        songID INTEGER NOT NULL,\n",
    "        albumID INTEGER NOT NULL,\n",
    "        PRIMARY KEY (songID, albumID),\n",
    "        FOREIGN KEY (songID) REFERENCES song (songID) ON DELETE CASCADE,\n",
    "        FOREIGN KEY (albumID) REFERENCES album (albumID) ON DELETE CASCADE\n",
    "        )\n",
    "        '''\n",
    "        prompt = f'''\n",
    "        You are an SQL expert specializing in SQLite3 queries. \n",
    "        Your task is to generate a correct SQLite3 query based on a user question.\n",
    "        Given the user question, produce a SQLite3 query which, following the exact database schema provided below\n",
    "\n",
    "        SQL Schema: {schema}\n",
    "\n",
    "        Instructions\n",
    "        Only return the raw SQL query without any explanations, formatting, markdown, or extra text.\n",
    "        Do NOT include backticks (```) or language markers like ```sql.\n",
    "        Use only the tables and columns from the provided schema**. Do not assume additional tables or fields.\n",
    "        Ensure that the SQL query is correctly formatted for execution in SQLite3.\n",
    "\n",
    "        Examples of correct SQL queries:\n",
    "\n",
    "        User Question: How many artists are there in the database?\n",
    "        Answer: SELECT COUNT(*) FROM artist;\n",
    "\n",
    "        User Question: Which artist has the most songs?\n",
    "        Answer: SELECT artist.name\n",
    "                FROM artist\n",
    "                JOIN song ON artist.artistID = song.artistID\n",
    "                GROUP BY artist.artistID\n",
    "                ORDER BY COUNT(song.songID) DESC\n",
    "                LIMIT 1;\n",
    "\n",
    "        \n",
    "        Common mistakes to avoid with examples:\n",
    "        Incorrect Formatting (DO NOT return queries inside markdown blocks)\n",
    "\n",
    "        User Question: How many artists are there in the database?\n",
    "        Answer: ```sql\n",
    "                SELECT COUNT(*) FROM artist;\n",
    "                ```\n",
    "        \n",
    "        User Question: Which artist has the most songs?\n",
    "        Answer: ```sql\n",
    "                SELECT artist.name\n",
    "                FROM artist\n",
    "                JOIN song ON artist.artistID = song.artistID\n",
    "                GROUP BY artist.artistID\n",
    "                ORDER BY COUNT(song.songID) DESC\n",
    "                LIMIT 1;\n",
    "                ```\n",
    "\n",
    "        Adding Explanations (DO NOT include extra text)\n",
    "        User Question: How many artists are there in the database?\n",
    "        Answer: Here is your SQL query: SELECT COUNT(*) FROM artist;\n",
    "\n",
    "        User Question: {question}\n",
    "        '''\n",
    "\n",
    "        completion = client.chat.completions.create(\n",
    "        model=\"gpt-4o\",  \n",
    "        messages=[\n",
    "                {\"role\": \"user\", \"content\": prompt}\n",
    "        ]\n",
    "        )\n",
    "\n",
    "        result = completion.choices[0].message.content  \n",
    "        print(result)\n",
    "        return result\n",
    "\n",
    "\n",
    "\n",
    "sql_query = generate_sql(question)\n",
    "\n"
   ]
  },
  {
   "cell_type": "code",
   "execution_count": 7,
   "metadata": {},
   "outputs": [
    {
     "name": "stdout",
     "output_type": "stream",
     "text": [
      "[(\"I'm the One\", 'Grateful')]\n"
     ]
    }
   ],
   "source": [
    "import sqlite3\n",
    "\n",
    "# Method to run SQL query\n",
    "def run_sql_query(sql_query):\n",
    "    conn = sqlite3.connect('musikk.db')\n",
    "    cursor = conn.cursor()\n",
    "\n",
    "    try:\n",
    "        cursor.execute(sql_query)\n",
    "        results = cursor.fetchall()\n",
    "        print(results)\n",
    "    except sqlite3.Error as e:\n",
    "        print(\"Error executing query:\", e)\n",
    "    \n",
    "    conn.close()\n",
    "\n",
    "    return results\n",
    "\n",
    "sql_result = run_sql_query(sql_query)\n"
   ]
  },
  {
   "cell_type": "code",
   "execution_count": 8,
   "metadata": {},
   "outputs": [
    {
     "name": "stdout",
     "output_type": "stream",
     "text": [
      "Sangen \"I'm the One\" av DJ Khaled er på albumet \"Grateful\".\n"
     ]
    },
    {
     "data": {
      "text/plain": [
       "'Sangen \"I\\'m the One\" av DJ Khaled er på albumet \"Grateful\".'"
      ]
     },
     "execution_count": 8,
     "metadata": {},
     "output_type": "execute_result"
    }
   ],
   "source": [
    "# Method to generate an answer with natural language to the original question\n",
    "def generate_nl(sql_result, question):\n",
    "\n",
    "    prompt = f'''\n",
    "    Given the original question, the corresponding SQLite3 query, \n",
    "    and the execution results, produce a truthful and accurate natural language response to the original question.\n",
    "    The answer should not mention that the data was fetched from a database.\n",
    "    The user is not interested in knowing how the answer was generated, only the answer itself.\n",
    "    Give the response as short and concise as possible.\n",
    "    Your response should be in the same language as the original question, which will be in English or Norwegian.\n",
    "    \n",
    "\n",
    "    User Question: {question}\n",
    "    SQL Query: {sql_query}\n",
    "    SQL Execution Results: {sql_result}  \n",
    "    '''\n",
    "\n",
    "    completion = client.chat.completions.create(\n",
    "    model=\"gpt-4o\",  \n",
    "    messages=[\n",
    "        {\"role\": \"user\", \"content\": prompt}\n",
    "    ]\n",
    "    )\n",
    "\n",
    "    answer = completion.choices[0].message.content  \n",
    "    print(answer)\n",
    "    return answer\n",
    "\n",
    "generate_nl(sql_result, question)"
   ]
  }
 ],
 "metadata": {
  "kernelspec": {
   "display_name": "nlp2sql",
   "language": "python",
   "name": "python3"
  },
  "language_info": {
   "codemirror_mode": {
    "name": "ipython",
    "version": 3
   },
   "file_extension": ".py",
   "mimetype": "text/x-python",
   "name": "python",
   "nbconvert_exporter": "python",
   "pygments_lexer": "ipython3",
   "version": "3.11.11"
  }
 },
 "nbformat": 4,
 "nbformat_minor": 2
}
